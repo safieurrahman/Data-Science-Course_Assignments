{
 "cells": [
  {
   "cell_type": "markdown",
   "metadata": {},
   "source": [
    "# Exercise 1"
   ]
  },
  {
   "cell_type": "markdown",
   "metadata": {},
   "source": [
    "Theoretical Part"
   ]
  },
  {
   "cell_type": "markdown",
   "metadata": {},
   "source": [
    "# Exercise 2"
   ]
  },
  {
   "cell_type": "markdown",
   "metadata": {},
   "source": [
    "### 2.2"
   ]
  },
  {
   "cell_type": "code",
   "execution_count": 1,
   "metadata": {},
   "outputs": [],
   "source": [
    "# import libraries\n",
    "import pandas as pd\n",
    "import numpy as np\n",
    "import matplotlib.pyplot as plt\n",
    "import itertools\n",
    "from sklearn.metrics import classification_report, confusion_matrix, accuracy_score\n",
    "from sklearn.model_selection import train_test_split"
   ]
  },
  {
   "cell_type": "code",
   "execution_count": 2,
   "metadata": {},
   "outputs": [],
   "source": [
    "# import data using pandas\n",
    "df = pd.read_csv('housing.csv')\n",
    "#print(df)\n",
    "\n",
    "X = df.iloc[:,:-1].values\n",
    "y = df.iloc[:,-1].values\n",
    "\n",
    "train_ratio = 0.60\n",
    "validation_ratio = 0.20\n",
    "test_ratio = 0.20\n",
    "\n",
    "# train is now 60% of the entire data set\n",
    "# the _junk suffix means that we drop that variable completely\n",
    "X_train, X_test, y_train, y_test = train_test_split(X, y, test_size=1 - train_ratio, random_state=10)\n",
    "\n",
    "# test is now 20% of the initial data set\n",
    "# validation is now 20% of the initial data set\n",
    "X_val, X_test, y_val, y_test = train_test_split(X_test, y_test, test_size=test_ratio/(test_ratio + validation_ratio), random_state=10) \n",
    "\n",
    "#print(X_train, X_val, X_test)"
   ]
  },
  {
   "cell_type": "code",
   "execution_count": 3,
   "metadata": {},
   "outputs": [],
   "source": [
    "# imputation\n",
    "from sklearn.impute import SimpleImputer\n",
    "\n",
    "imp = SimpleImputer(strategy='mean')\n",
    "\n",
    "X_train = imp.fit_transform(X_train)\n",
    "X_test = imp.transform(X_test)\n",
    "X_val = imp.transform(X_val)"
   ]
  },
  {
   "cell_type": "code",
   "execution_count": 4,
   "metadata": {},
   "outputs": [],
   "source": [
    "# scaling\n",
    "from sklearn.preprocessing import StandardScaler\n",
    "\n",
    "sc = StandardScaler()\n",
    "X_train = sc.fit_transform(X_train)\n",
    "X_test = sc.transform(X_test)\n",
    "X_val = sc.transform(X_val)"
   ]
  },
  {
   "cell_type": "markdown",
   "metadata": {},
   "source": [
    "### 2.3"
   ]
  },
  {
   "cell_type": "code",
   "execution_count": 5,
   "metadata": {},
   "outputs": [],
   "source": [
    "from sklearn.metrics import r2_score\n",
    "from scipy.optimize import minimize\n",
    "import numpy as np\n",
    "\n",
    "\n",
    "class LinReg():\n",
    "    \"\"\"\n",
    "    This class trains linear model with intercept (bias)\n",
    "    \"\"\"\n",
    "    def __init__(self, C = None):\n",
    "        self.p = None # parameters field of model\n",
    "        self.C = C\n",
    "\n",
    "    def predict(self, X):\n",
    "        if self.p is None:\n",
    "            raise(\"Please train the model first!\")\n",
    "\n",
    "        return self._predict(X, self.p)\n",
    "\n",
    "    def _predict(self, X, p):\n",
    "        # this is used for optimization of objective\n",
    "        # returns a vector where i-th elemnt corresponds to\n",
    "        # the output of the model with i-th input row\n",
    "        \n",
    "        return np.dot(X, p[:-1]) + p[-1]\n",
    "        \n",
    "        \n",
    "    def fit(self, X,Y):\n",
    "        # objective: minimize squared deviation\n",
    "        def obj(p):\n",
    "            Yp = self._predict(X, p)\n",
    "            loss = np.mean((Yp -Y) ** 2)\n",
    "\n",
    "            # check if regularization is used\n",
    "            if self.C is None:\n",
    "                return loss\n",
    "\n",
    "            return loss +  (self.C * np.sum( np.abs(p) ))\n",
    "\n",
    "\n",
    "        p0 = np.zeros(X.shape[1] + 1)\n",
    "        sol = minimize(obj, p0, method=\"L-BFGS-B\", tol=1e-6)\n",
    "        self.p = sol.x\n",
    "\n",
    "    def score(self, Xv, Yv):\n",
    "        # this function gets predictions on Xv and compares to Yv\n",
    "        # using r2_score function\n",
    "        Yp = self.predict(Xv)\n",
    "        return r2_score(Yv, Yp)"
   ]
  },
  {
   "cell_type": "code",
   "execution_count": 25,
   "metadata": {},
   "outputs": [
    {
     "name": "stdout",
     "output_type": "stream",
     "text": [
      "--------------\n",
      "Regularization : 0.01\n",
      "The value for r_2_score for regularization is 0.7018751805836294\n",
      "CRIM -1.1405739820871321\n",
      "ZN 0.6671155233172454\n",
      "INDUS 0.46749835871801443\n",
      "CHAS 0.9716896307213567\n",
      "NOX -2.5178368238127047\n",
      "RM 3.107347323081306\n",
      "AGE -0.21894854648546058\n",
      "DIS -3.0301791557464894\n",
      "RAD 2.9644437967226644\n",
      "TAX -2.8977350888998394\n",
      "PTRATIO -1.7855479908835494\n",
      "LSTAT -3.0859443375522924\n",
      "--------------\n",
      "Regularization : 1\n",
      "The value for r_2_score for regularization is 0.6768892809290505\n",
      "CRIM -0.40239261418305444\n",
      "ZN 0.0001415275654250641\n",
      "INDUS -0.00031075991857067305\n",
      "CHAS 0.6488428874148371\n",
      "NOX -0.8042501693276599\n",
      "RM 3.2784069658457304\n",
      "AGE -6.723152447648184e-07\n",
      "DIS -0.7166262051722561\n",
      "RAD -0.0007176150009366715\n",
      "TAX -0.4447806647248969\n",
      "PTRATIO -1.1379449977303973\n",
      "LSTAT -2.9098150750448766\n",
      "--------------\n",
      "Regularization : 100\n",
      "The value for r_2_score for regularization is -5.243131547579747\n",
      "CRIM 0.0\n",
      "ZN 0.0\n",
      "INDUS 0.0\n",
      "CHAS 0.0\n",
      "NOX 0.0\n",
      "RM 0.0\n",
      "AGE 0.0\n",
      "DIS 0.0\n",
      "RAD 0.0\n",
      "TAX 0.0\n",
      "PTRATIO 0.0\n",
      "LSTAT 0.0\n"
     ]
    }
   ],
   "source": [
    "# create and train predictive model\n",
    "\n",
    "regularization_array = [0.01, 1, 100]\n",
    "for c in regularization_array:\n",
    "    model = LinReg(C = c)\n",
    "    model.fit(X_train, y_train)\n",
    "    print (\"--------------\")\n",
    "    print (\"Regularization :\", c)\n",
    "    print(\"The value for r_2_score for regularization is\", model.score(X_test, y_test))\n",
    "    \n",
    "    # print the model weights\n",
    "    for c, v in zip( df.columns.values[:-1], model.p[:-1]):\n",
    "        print(c,v)"
   ]
  },
  {
   "cell_type": "code",
   "execution_count": null,
   "metadata": {},
   "outputs": [],
   "source": []
  }
 ],
 "metadata": {
  "kernelspec": {
   "display_name": "Python 3.7.6 64-bit ('base': conda)",
   "language": "python",
   "name": "python37664bitbaseconda247eafd1a1b94d2fa375ea9fb53475d2"
  },
  "language_info": {
   "codemirror_mode": {
    "name": "ipython",
    "version": 3
   },
   "file_extension": ".py",
   "mimetype": "text/x-python",
   "name": "python",
   "nbconvert_exporter": "python",
   "pygments_lexer": "ipython3",
   "version": "3.7.6"
  }
 },
 "nbformat": 4,
 "nbformat_minor": 4
}
