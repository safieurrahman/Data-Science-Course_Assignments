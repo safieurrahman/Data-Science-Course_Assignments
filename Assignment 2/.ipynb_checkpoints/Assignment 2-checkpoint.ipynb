{
 "cells": [
  {
   "cell_type": "markdown",
   "metadata": {},
   "source": [
    "# Exercise 1"
   ]
  },
  {
   "cell_type": "code",
   "execution_count": null,
   "metadata": {},
   "outputs": [],
   "source": [
    "Theoretical Part"
   ]
  },
  {
   "cell_type": "markdown",
   "metadata": {},
   "source": [
    "# Exercise 2"
   ]
  },
  {
   "cell_type": "markdown",
   "metadata": {},
   "source": [
    "### 2a"
   ]
  },
  {
   "cell_type": "code",
   "execution_count": 3,
   "metadata": {},
   "outputs": [],
   "source": [
    "# import libraries\n",
    "import pandas as pd\n",
    "import numpy as np\n",
    "import matplotlib.pyplot as plt\n",
    "import itertools\n",
    "from sklearn.metrics import classification_report, confusion_matrix, accuracy_score"
   ]
  },
  {
   "cell_type": "code",
   "execution_count": 4,
   "metadata": {},
   "outputs": [
    {
     "name": "stdout",
     "output_type": "stream",
     "text": [
      "(506, 12)\n"
     ]
    }
   ],
   "source": [
    "# import data using pandas\n",
    "df = pd.read_csv('housing.csv')\n",
    "#print(df)\n",
    "\n",
    "X = df.iloc[:,:-1].values\n",
    "y = df.iloc[:,-1].values\n",
    "\n",
    "print(X.shape)"
   ]
  },
  {
   "cell_type": "code",
   "execution_count": 5,
   "metadata": {},
   "outputs": [],
   "source": [
    "# Splitting the data into the Training set and Test set\n",
    "from sklearn.model_selection import train_test_split\n",
    "\n",
    "X_train, X_test, y_train, y_test = train_test_split(X, y, test_size=0.2, random_state=10)"
   ]
  },
  {
   "cell_type": "code",
   "execution_count": 6,
   "metadata": {},
   "outputs": [],
   "source": [
    "# imputation\n",
    "from sklearn.impute import SimpleImputer\n",
    "\n",
    "imp = SimpleImputer(strategy='mean')\n",
    "\n",
    "X_train = imp.fit_transform(X_train)\n",
    "X_test = imp.transform(X_test)"
   ]
  },
  {
   "cell_type": "code",
   "execution_count": 7,
   "metadata": {},
   "outputs": [],
   "source": [
    "# scaling\n",
    "from sklearn.preprocessing import StandardScaler\n",
    "\n",
    "sc = StandardScaler()\n",
    "X_train = sc.fit_transform(X_train)\n",
    "X_test = sc.transform(X_test)\n",
    "#print(X_test)"
   ]
  },
  {
   "cell_type": "markdown",
   "metadata": {},
   "source": [
    "### 2b"
   ]
  },
  {
   "cell_type": "code",
   "execution_count": 8,
   "metadata": {},
   "outputs": [
    {
     "name": "stdout",
     "output_type": "stream",
     "text": [
      "The value for r_2_score is:  0.7727281656931541\n"
     ]
    }
   ],
   "source": [
    "#Applying model and score calculation\n",
    "\n",
    "from sklearn.linear_model import LinearRegression\n",
    "from sklearn.metrics import r2_score\n",
    "\n",
    "model = LinearRegression()\n",
    "model.fit(X_train, y_train)\n",
    "\n",
    "y_pred = model.predict(X_test)\n",
    "r_squared_score = r2_score(y_test, y_pred)\n",
    "print (\"The value for r_2_score is: \", r_squared_score)"
   ]
  },
  {
   "cell_type": "markdown",
   "metadata": {},
   "source": [
    "### 2c"
   ]
  },
  {
   "cell_type": "code",
   "execution_count": 48,
   "metadata": {},
   "outputs": [
    {
     "name": "stdout",
     "output_type": "stream",
     "text": [
      "The values for estimated coefficients are:  [-1.27794825  1.08351106  0.45178609  0.98272902 -2.44849385  2.61831927\n",
      "  0.20038205 -2.95561278  2.81952401 -2.42492555 -1.81620507 -3.87032126]\n",
      "\n",
      "The value for bias is:  22.331188118811916\n"
     ]
    }
   ],
   "source": [
    "#Printing bias and co-efficients\n",
    "\n",
    "print (\"The values for estimated coefficients are: \", model.coef_)\n",
    "print (\"\\nThe value for bias is: \", model.intercept_)"
   ]
  },
  {
   "cell_type": "code",
   "execution_count": 49,
   "metadata": {},
   "outputs": [
    {
     "name": "stdout",
     "output_type": "stream",
     "text": [
      "Indices of 5 largest absolute values are  [8 5 1 3 2]\n",
      "\n",
      " Feature coefficients  are: \n",
      " RAD : 2.819524011090973\n",
      " RM : 2.618319274561446\n",
      " ZN : 1.0835110634321137\n",
      " CHAS : 0.982729016137702\n",
      " INDUS : 0.451786092734163\n"
     ]
    }
   ],
   "source": [
    "#Finding index of 5 absolute largest weights of the model\n",
    "\n",
    "temp = model.coef_\n",
    "print(\"Indices of 5 largest absolute values are \",temp.argsort()[::-1][0:5])\n",
    "print(\"\\n Feature coefficients  are: \")\n",
    "\n",
    "# print Feature coefficients\n",
    "temp_dict = {}\n",
    "\n",
    "for index,key in  enumerate(df.keys()):\n",
    "    temp_dict[index] = key\n",
    "\n",
    "max_5 = temp.argsort()[::-1][:5]\n",
    "for i in max_5: \n",
    "    print(\" {} : {}\".format(temp_dict[i],temp[i]))\n"
   ]
  },
  {
   "cell_type": "markdown",
   "metadata": {},
   "source": [
    "Reference: Solutions\n",
    "\n",
    "1. Interpretation of intercept <br>\n",
    "When input features are  centered around 0 (scaled with mean set to 0), intercept imnplies the expected  value of the dependent variable when input features are set to their means. \n",
    "In the second case where input features  are not centered around 0, no meaningful interpretation can be done. \n",
    "\n",
    "2. Interpretation of coefficients <br>\n",
    "Coefficients represent change in dependent variable induced by one unit change in the input feature when all other features are kept constant. It is important to note that coefficients does not imply feature importance. "
   ]
  },
  {
   "cell_type": "code",
   "execution_count": null,
   "metadata": {},
   "outputs": [],
   "source": []
  }
 ],
 "metadata": {
  "kernelspec": {
   "display_name": "Python 3.7.6 64-bit ('base': conda)",
   "language": "python",
   "name": "python37664bitbaseconda247eafd1a1b94d2fa375ea9fb53475d2"
  },
  "language_info": {
   "codemirror_mode": {
    "name": "ipython",
    "version": 3
   },
   "file_extension": ".py",
   "mimetype": "text/x-python",
   "name": "python",
   "nbconvert_exporter": "python",
   "pygments_lexer": "ipython3",
   "version": "3.7.6"
  }
 },
 "nbformat": 4,
 "nbformat_minor": 4
}
